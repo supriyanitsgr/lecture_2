{
  "nbformat": 4,
  "nbformat_minor": 0,
  "metadata": {
    "colab": {
      "name": "Untitled8.ipynb",
      "provenance": [],
      "collapsed_sections": [],
      "authorship_tag": "ABX9TyPrxmQJhb60TR0iV3WH1oLE",
      "include_colab_link": true
    },
    "kernelspec": {
      "name": "python3",
      "display_name": "Python 3"
    }
  },
  "cells": [
    {
      "cell_type": "markdown",
      "metadata": {
        "id": "view-in-github",
        "colab_type": "text"
      },
      "source": [
        "<a href=\"https://colab.research.google.com/github/supriyanitsgr/lecture_2/blob/main/Untitled8.ipynb\" target=\"_parent\"><img src=\"https://colab.research.google.com/assets/colab-badge.svg\" alt=\"Open In Colab\"/></a>"
      ]
    },
    {
      "cell_type": "code",
      "metadata": {
        "colab": {
          "base_uri": "https://localhost:8080/",
          "height": 131
        },
        "id": "QJFt7LIFquy-",
        "outputId": "0bb47e15-3f07-4eee-e273-98af2bc08220"
      },
      "source": [
        "var1=1\r\n",
        "var2=2\r\n",
        "var3=int(input(\"enter a number:\"))\r\n",
        "if var3>var2:\r\n",
        "  print(\"greater is var3\")\r\n",
        "  elif var1==var3:\r\n",
        "    print(\"they are equal\")\r\n",
        "    else:\r\n",
        "    print(\"var3 is smaller\")"
      ],
      "execution_count": null,
      "outputs": [
        {
          "output_type": "error",
          "ename": "SyntaxError",
          "evalue": "ignored",
          "traceback": [
            "\u001b[0;36m  File \u001b[0;32m\"<ipython-input-12-0fb5163344c9>\"\u001b[0;36m, line \u001b[0;32m6\u001b[0m\n\u001b[0;31m    elif var1==var3:\u001b[0m\n\u001b[0m       ^\u001b[0m\n\u001b[0;31mSyntaxError\u001b[0m\u001b[0;31m:\u001b[0m invalid syntax\n"
          ]
        }
      ]
    },
    {
      "cell_type": "code",
      "metadata": {
        "id": "v-PjrREzOulW"
      },
      "source": [
        ""
      ],
      "execution_count": null,
      "outputs": []
    },
    {
      "cell_type": "code",
      "metadata": {
        "colab": {
          "base_uri": "https://localhost:8080/"
        },
        "id": "wy0WISpKsmVo",
        "outputId": "a8b5b30d-5139-4ea3-9f42-f3b4c3928057"
      },
      "source": [
        "list1=[1,4,7]\r\n",
        "if 1 in list1:\r\n",
        "  print(\"it's in the list\")\r\n",
        "  if 1 not in list1:\r\n",
        "    print(\"it's not in the list\")"
      ],
      "execution_count": null,
      "outputs": [
        {
          "output_type": "stream",
          "text": [
            "it's in the list\n"
          ],
          "name": "stdout"
        }
      ]
    },
    {
      "cell_type": "code",
      "metadata": {
        "colab": {
          "base_uri": "https://localhost:8080/",
          "height": 218
        },
        "id": "248KdpxatgZF",
        "outputId": "336287c5-a642-4005-b5be-9408a36f88f8"
      },
      "source": [
        " # list2=[\"supriya,mira, sameera\"]\r\n",
        " # for item in list2:\r\n",
        " # print(item)\r\n",
        " list3= [[\"supriya,5\"],[\"mira,2\"],[\"sameera,10\"]]\r\n",
        " for item ,chocolate in list3:\r\n",
        "   print(item)"
      ],
      "execution_count": null,
      "outputs": [
        {
          "output_type": "error",
          "ename": "ValueError",
          "evalue": "ignored",
          "traceback": [
            "\u001b[0;31m---------------------------------------------------------------------------\u001b[0m",
            "\u001b[0;31mValueError\u001b[0m                                Traceback (most recent call last)",
            "\u001b[0;32m<ipython-input-16-d373db6d6e93>\u001b[0m in \u001b[0;36m<module>\u001b[0;34m()\u001b[0m\n\u001b[1;32m      3\u001b[0m \u001b[0;31m# print(item)\u001b[0m\u001b[0;34m\u001b[0m\u001b[0;34m\u001b[0m\u001b[0;34m\u001b[0m\u001b[0m\n\u001b[1;32m      4\u001b[0m \u001b[0mlist3\u001b[0m\u001b[0;34m=\u001b[0m \u001b[0;34m[\u001b[0m\u001b[0;34m[\u001b[0m\u001b[0;34m\"supriya,5\"\u001b[0m\u001b[0;34m]\u001b[0m\u001b[0;34m,\u001b[0m\u001b[0;34m[\u001b[0m\u001b[0;34m\"mira,2\"\u001b[0m\u001b[0;34m]\u001b[0m\u001b[0;34m,\u001b[0m\u001b[0;34m[\u001b[0m\u001b[0;34m\"sameera,10\"\u001b[0m\u001b[0;34m]\u001b[0m\u001b[0;34m]\u001b[0m\u001b[0;34m\u001b[0m\u001b[0;34m\u001b[0m\u001b[0m\n\u001b[0;32m----> 5\u001b[0;31m \u001b[0;32mfor\u001b[0m \u001b[0mitem\u001b[0m \u001b[0;34m,\u001b[0m\u001b[0mchocolate\u001b[0m \u001b[0;32min\u001b[0m \u001b[0mlist3\u001b[0m\u001b[0;34m:\u001b[0m\u001b[0;34m\u001b[0m\u001b[0;34m\u001b[0m\u001b[0m\n\u001b[0m\u001b[1;32m      6\u001b[0m   \u001b[0mprint\u001b[0m\u001b[0;34m(\u001b[0m\u001b[0mitem\u001b[0m\u001b[0;34m)\u001b[0m\u001b[0;34m\u001b[0m\u001b[0;34m\u001b[0m\u001b[0m\n",
            "\u001b[0;31mValueError\u001b[0m: not enough values to unpack (expected 2, got 1)"
          ]
        }
      ]
    },
    {
      "cell_type": "code",
      "metadata": {
        "colab": {
          "base_uri": "https://localhost:8080/"
        },
        "id": "bncS2ChZqyOv",
        "outputId": "c949ff3a-7f90-477f-9a29-ade65eab9fc4"
      },
      "source": [
        "a=0\r\n",
        "while(a<45):\r\n",
        "  print(a)\r\n",
        "  a=a+1  "
      ],
      "execution_count": null,
      "outputs": [
        {
          "output_type": "stream",
          "text": [
            "0\n",
            "1\n",
            "2\n",
            "3\n",
            "4\n",
            "5\n",
            "6\n",
            "7\n",
            "8\n",
            "9\n",
            "10\n",
            "11\n",
            "12\n",
            "13\n",
            "14\n",
            "15\n",
            "16\n",
            "17\n",
            "18\n",
            "19\n",
            "20\n",
            "21\n",
            "22\n",
            "23\n",
            "24\n",
            "25\n",
            "26\n",
            "27\n",
            "28\n",
            "29\n",
            "30\n",
            "31\n",
            "32\n",
            "33\n",
            "34\n",
            "35\n",
            "36\n",
            "37\n",
            "38\n",
            "39\n",
            "40\n",
            "41\n",
            "42\n",
            "43\n",
            "44\n"
          ],
          "name": "stdout"
        }
      ]
    },
    {
      "cell_type": "code",
      "metadata": {
        "colab": {
          "base_uri": "https://localhost:8080/"
        },
        "id": "Qz-ZoWzyw_Zi",
        "outputId": "0abcae5b-d897-4ad9-a77b-85af01a41551"
      },
      "source": [
        "#   i=0\r\n",
        "#    while(true):\r\n",
        "#  print(i+1)\r\n",
        "#  if (i==44):\r\n",
        "#    break\r\n",
        "#    i=i+1\r\n",
        "i=0\r\n",
        "\r\n",
        "while(True):\r\n",
        "      #    if i+1<5:\r\n",
        "      #    i=i+1\r\n",
        "      #    continue\r\n",
        "\r\n",
        "      print(i+1)\r\n",
        "      if(i==44):\r\n",
        "        break        #stop the loop\r\n",
        "      i=i+1\r\n"
      ],
      "execution_count": null,
      "outputs": [
        {
          "output_type": "stream",
          "text": [
            "1\n",
            "2\n",
            "3\n",
            "4\n",
            "5\n",
            "6\n",
            "7\n",
            "8\n",
            "9\n",
            "10\n",
            "11\n",
            "12\n",
            "13\n",
            "14\n",
            "15\n",
            "16\n",
            "17\n",
            "18\n",
            "19\n",
            "20\n",
            "21\n",
            "22\n",
            "23\n",
            "24\n",
            "25\n",
            "26\n",
            "27\n",
            "28\n",
            "29\n",
            "30\n",
            "31\n",
            "32\n",
            "33\n",
            "34\n",
            "35\n",
            "36\n",
            "37\n",
            "38\n",
            "39\n",
            "40\n",
            "41\n",
            "42\n",
            "43\n",
            "44\n",
            "45\n"
          ],
          "name": "stdout"
        }
      ]
    },
    {
      "cell_type": "code",
      "metadata": {
        "id": "Y0h6jfLI0RB1",
        "colab": {
          "base_uri": "https://localhost:8080/"
        },
        "outputId": "6f8e98b2-2934-4d9a-907a-2acd731486a8"
      },
      "source": [
        "a=2\r\n",
        "b=4\r\n",
        "c=sum((a,b))\r\n",
        "print(c)"
      ],
      "execution_count": null,
      "outputs": [
        {
          "output_type": "stream",
          "text": [
            "6\n"
          ],
          "name": "stdout"
        }
      ]
    },
    {
      "cell_type": "code",
      "metadata": {
        "colab": {
          "base_uri": "https://localhost:8080/"
        },
        "id": "GAc0PXK5Pw4T",
        "outputId": "fd3a08e9-d3c3-41c0-aea6-cf4a6bfe21c9"
      },
      "source": [
        "  def fun():   #function declaration\r\n",
        "\r\n",
        "        print(\"my name is supriya\")\r\n",
        "\r\n",
        "  fun()     #function calling\r\n",
        " "
      ],
      "execution_count": null,
      "outputs": [
        {
          "output_type": "stream",
          "text": [
            "my name is supriya\n"
          ],
          "name": "stdout"
        }
      ]
    },
    {
      "cell_type": "code",
      "metadata": {
        "colab": {
          "base_uri": "https://localhost:8080/"
        },
        "id": "qVnUsk3qQRTj",
        "outputId": "732055b3-2121-4723-d629-e95a7c3eeeef"
      },
      "source": [
        "def newfunction(a,b):\r\n",
        "     \"\"\"This is a function which calculates the multiplication of two numbers\"\"\"   \r\n",
        "     multiply =a*b\r\n",
        "     print(multiply)\r\n",
        "     return multiply\r\n",
        "s=newfunction(2,5)\r\n",
        "print(s)\r\n",
        "print(newfunction.__doc__)"
      ],
      "execution_count": null,
      "outputs": [
        {
          "output_type": "stream",
          "text": [
            "10\n",
            "10\n",
            "This is a function which calculates the multiplication of two numbers\n"
          ],
          "name": "stdout"
        }
      ]
    },
    {
      "cell_type": "code",
      "metadata": {
        "colab": {
          "base_uri": "https://localhost:8080/"
        },
        "id": "bkHOqiiASAiI",
        "outputId": "d8001fe2-28ee-455c-9528-0f567d6bdb45"
      },
      "source": [
        "print(\"Enter a number\")\r\n",
        "num1=input()\r\n",
        "print(\"Enter a number\")\r\n",
        "num2=input()\r\n",
        "try:\r\n",
        "     print(\"sum is :\",int(num1) +int(num2))\r\n",
        "except  Exception as e:\r\n",
        "   print(e)\r\n",
        "\r\n",
        "\r\n"
      ],
      "execution_count": null,
      "outputs": [
        {
          "output_type": "stream",
          "text": [
            "Enter a number\n",
            "2\n",
            "Enter a number\n",
            "5\n",
            "sum is : 7\n"
          ],
          "name": "stdout"
        }
      ]
    },
    {
      "cell_type": "code",
      "metadata": {
        "colab": {
          "base_uri": "https://localhost:8080/"
        },
        "id": "QSZaJsTTYmQv",
        "outputId": "5aaa8820-7108-4cd2-bf19-92c800d26499"
      },
      "source": [
        "x=5\r\n",
        "def  fun():\r\n",
        "    x=10   \r\n",
        "print(\"Local variable:\",x)\r\n",
        "fun()\r\n",
        "print(\"global variable is :\",x)\r\n"
      ],
      "execution_count": null,
      "outputs": [
        {
          "output_type": "stream",
          "text": [
            "Local variable: 5\n",
            "global variable is : 5\n"
          ],
          "name": "stdout"
        }
      ]
    },
    {
      "cell_type": "code",
      "metadata": {
        "colab": {
          "base_uri": "https://localhost:8080/"
        },
        "id": "tAmsPwshjJ9O",
        "outputId": "a71864dd-a689-40ce-f439-99ed9b4f0c9c"
      },
      "source": [
        "def factorial_recursive(n):\r\n",
        "     if n==1:\r\n",
        "        return 1  \r\n",
        "     else:\r\n",
        "       return n*factorial_recursive(n-1) \r\n",
        "number =int(input(\"enter a number:\"))\r\n",
        "print(\"factorial :\",factorial_recursive(number))\r\n",
        "\r\n",
        "    "
      ],
      "execution_count": null,
      "outputs": [
        {
          "output_type": "stream",
          "text": [
            "enter a number:4\n",
            "factorial : 24\n"
          ],
          "name": "stdout"
        }
      ]
    },
    {
      "cell_type": "code",
      "metadata": {
        "colab": {
          "base_uri": "https://localhost:8080/"
        },
        "id": "wGDQvdfUnSDp",
        "outputId": "a39631e8-96e6-4fb1-be4c-24d6855ee22d"
      },
      "source": [
        "def substraction(p,q):\r\n",
        "   sub=p-q\r\n",
        "   return sub\r\n",
        "num1=int(input(\"please enter first number\"))\r\n",
        "num2=int(input(\"please enter second number\"))\r\n",
        "print(\"substraction is \",substraction(num1,num2)) \r\n",
        " \r\n",
        "minus=lambda p,q :p-q\r\n",
        "print(minus(5,3))"
      ],
      "execution_count": null,
      "outputs": [
        {
          "output_type": "stream",
          "text": [
            "please enter first number5\n",
            "please enter second number3\n",
            "substraction is  2\n",
            "2\n"
          ],
          "name": "stdout"
        }
      ]
    },
    {
      "cell_type": "code",
      "metadata": {
        "id": "Jx8aCxI3rWvE"
      },
      "source": [
        ""
      ],
      "execution_count": null,
      "outputs": []
    },
    {
      "cell_type": "code",
      "metadata": {
        "id": "_2u3kC6ArYXb"
      },
      "source": [
        ""
      ],
      "execution_count": null,
      "outputs": []
    },
    {
      "cell_type": "code",
      "metadata": {
        "colab": {
          "base_uri": "https://localhost:8080/"
        },
        "id": "6gRcte4xly5v",
        "outputId": "78470543-bd3f-4576-fd82-25e176de526f"
      },
      "source": [
        "my =\"supriya\"\r\n",
        "s = 10\r\n",
        "s1 = f\"My name is {my} {s} \"\r\n",
        "print(s1)"
      ],
      "execution_count": null,
      "outputs": [
        {
          "output_type": "stream",
          "text": [
            "My name is supriya 10 \n"
          ],
          "name": "stdout"
        }
      ]
    },
    {
      "cell_type": "code",
      "metadata": {
        "id": "IWQnHOgtrr30"
      },
      "source": [
        "class student:\r\n",
        "      no_of_student = 5\r\n",
        "      def __init__(self,aname, astandard,asection):\r\n",
        "        self.name = aname\r\n",
        "        self.standard = astandard\r\n",
        "        self.section= asection \r\n",
        "one = student(\"Riya\",10,\"A\")\r\n",
        "two = student(\"supriya\",12,\"B\")\r\n",
        "print(one._prot)"
      ],
      "execution_count": null,
      "outputs": []
    },
    {
      "cell_type": "code",
      "metadata": {
        "id": "-B7es5xqjsEy"
      },
      "source": [
        "class student:\r\n",
        " no_of_subjects=5     #variables\r\n",
        "_prot=2  #protected\r\n",
        "__pri=100  #private\r\n",
        " def __init__(self,aname, astandard,asection):\r\n",
        "        self.name = aname\r\n",
        "        self.standard = astandard\r\n",
        "        self.section= asection \r\n",
        " def details(self):\r\n",
        "   return f\"N\""
      ],
      "execution_count": null,
      "outputs": []
    },
    {
      "cell_type": "code",
      "metadata": {
        "id": "Qj8R7gq6qW3U"
      },
      "source": [
        "class Student:\r\n",
        "    no_of_subjects = 5 #class variable\r\n",
        "    _prot = 2 #protected\r\n",
        "    __pri = 100 #private\r\n",
        "one=student(\"Meena\",10,\"A\")\r\n",
        "def __init__(self,aname,astandard,asection):\r\n",
        "        self.name = aname\r\n",
        "        self.standard = astandard\r\n",
        "        self.section = asection\r\n",
        "\r\n",
        "def details(self):\r\n",
        "        return f\"Name is {self.name}, Standard is {self.standard}\"\r\n",
        "print(one._student__pri)"
      ],
      "execution_count": null,
      "outputs": []
    },
    {
      "cell_type": "code",
      "metadata": {
        "colab": {
          "base_uri": "https://localhost:8080/"
        },
        "id": "Dw_Qud6KrwO2",
        "outputId": "ac9054bb-ca2e-4689-f33a-1d353cf2f513"
      },
      "source": [
        "class Teacher(student):\r\n",
        "  no_of_working_hours=12\r\n",
        "  def __init__(self,aname,astandard,asection,asalary):\r\n",
        "        self.name = aname\r\n",
        "        self.standard = astandard\r\n",
        "        self.section = asection\r\n",
        "        self.salary =asalary\r\n",
        "  def printsub(self):\r\n",
        "          return f\"name of the teacher is {self.name},standard is {self.standard}\"\r\n",
        "          #print(one._teacher__pri)\r\n",
        "#one=student(\"Meena\",10,\"A\",4500)\r\n",
        "two=Teacher(\"Tina\",10,\"D\",6500)\r\n",
        "print(two.name)"
      ],
      "execution_count": 25,
      "outputs": [
        {
          "output_type": "stream",
          "text": [
            "Tina\n"
          ],
          "name": "stdout"
        }
      ]
    },
    {
      "cell_type": "code",
      "metadata": {
        "id": "LGmJXsRjyRch"
      },
      "source": [
        ""
      ],
      "execution_count": null,
      "outputs": []
    }
  ]
}